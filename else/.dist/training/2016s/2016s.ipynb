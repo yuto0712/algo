{
 "cells": [
  {
   "cell_type": "code",
   "execution_count": 6,
   "metadata": {},
   "outputs": [],
   "source": [
    "zero ='''\n",
    "****\n",
    "|  |\n",
    "*  *\n",
    "|  |\n",
    "****\n",
    "'''\n",
    "one ='''\n",
    "*\n",
    "|\n",
    "*\n",
    "|\n",
    "*\n",
    "'''\n",
    "\n",
    "two ='''\n",
    "****\n",
    "   |\n",
    "****\n",
    "|\n",
    "****\n",
    "'''\n",
    "\n",
    "three ='''\n",
    "****\n",
    "   |\n",
    "****\n",
    "   |\n",
    "****\n",
    "'''\n",
    "\n",
    "four ='''\n",
    "*  *\n",
    "|  |\n",
    "****\n",
    "   |\n",
    "   *\n",
    "'''\n",
    "\n",
    "five ='''\n",
    "*  *\n",
    "|  |\n",
    "****\n",
    "   |\n",
    "   *\n",
    "'''"
   ]
  },
  {
   "cell_type": "code",
   "execution_count": 11,
   "metadata": {},
   "outputs": [
    {
     "name": "stdout",
     "output_type": "stream",
     "text": [
      "*\n",
      "|\n",
      "*\n",
      "|\n",
      "*\n"
     ]
    }
   ],
   "source": [
    "zero=['****','|  |','*  *','|  |','****']\n",
    "one = ['*','|','*','|','*']\n",
    "for ele in one:\n",
    "    print(ele)"
   ]
  },
  {
   "cell_type": "code",
   "execution_count": null,
   "metadata": {},
   "outputs": [],
   "source": []
  }
 ],
 "metadata": {
  "interpreter": {
   "hash": "85264dd502f7c33807a1464ae1f1991f21bab7c89a57646c4c3522b93e5b03e0"
  },
  "kernelspec": {
   "display_name": "Python 3.9.7 64-bit ('base': conda)",
   "language": "python",
   "name": "python3"
  },
  "language_info": {
   "codemirror_mode": {
    "name": "ipython",
    "version": 3
   },
   "file_extension": ".py",
   "mimetype": "text/x-python",
   "name": "python",
   "nbconvert_exporter": "python",
   "pygments_lexer": "ipython3",
   "version": "3.9.7"
  },
  "orig_nbformat": 4
 },
 "nbformat": 4,
 "nbformat_minor": 2
}
