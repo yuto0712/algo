{
 "cells": [
  {
   "cell_type": "markdown",
   "metadata": {},
   "source": [
    "n進数変換"
   ]
  },
  {
   "cell_type": "code",
   "execution_count": 55,
   "metadata": {},
   "outputs": [
    {
     "name": "stdout",
     "output_type": "stream",
     "text": [
      "13\n",
      "0b1010\n",
      "0o12\n",
      "0xa\n"
     ]
    }
   ],
   "source": [
    "#n進数における01101を10進数に変換\n",
    "n = 2\n",
    "print(int('01101', n))\n",
    "\n",
    "#10→n\n",
    "def Base_10_to_n(X, n):\n",
    "    if (int(X/n)):\n",
    "        return Base_10_to_n(int(X/n), n)+str(X%n)\n",
    "    return str(X%n)\n",
    "\n",
    "#n→10\n",
    "def Base_n_to_10(X,n):\n",
    "    out = 0\n",
    "    for i in range(1,len(str(X))+1):\n",
    "        out += int(X[-i])*(n**(i-1))\n",
    "    return out\n",
    "\n",
    "x = 10\n",
    "print(bin(x))\n",
    "# 0b1010\n",
    "print(oct(x))\n",
    "# 0o12\n",
    "print(hex(x))\n",
    "# 0xa"
   ]
  },
  {
   "cell_type": "markdown",
   "metadata": {},
   "source": [
    "アルファベット⇄数字変換"
   ]
  },
  {
   "cell_type": "code",
   "execution_count": 20,
   "metadata": {},
   "outputs": [
    {
     "name": "stdout",
     "output_type": "stream",
     "text": [
      "90\n",
      "d\n"
     ]
    }
   ],
   "source": [
    "print(ord('Z'))\n",
    "print(chr(100))"
   ]
  },
  {
   "cell_type": "code",
   "execution_count": 39,
   "metadata": {},
   "outputs": [
    {
     "name": "stdout",
     "output_type": "stream",
     "text": [
      "B\n",
      "H\n",
      "C\n",
      "#\n"
     ]
    }
   ],
   "source": [
    "binary = \"000001000111000010111111\"\n",
    "while binary:\n",
    "    bits = binary[:6]\n",
    "    binary = binary[6:]\n",
    "    num_10 = Base_n_to_10(bits,2)\n",
    "    if num_10 <=25:\n",
    "        print(chr(65+num_10))\n",
    "    elif num_10<=51:\n",
    "        print(chr(97+num_10))\n",
    "    elif num_10<=61:\n",
    "        print(num_10-53)\n",
    "    elif num_10==62:\n",
    "        print('@')\n",
    "    elif num_10==63:\n",
    "        print('#')"
   ]
  },
  {
   "cell_type": "code",
   "execution_count": 24,
   "metadata": {},
   "outputs": [
    {
     "name": "stdout",
     "output_type": "stream",
     "text": [
      "000001\n",
      "000111\n",
      "000010\n",
      "111111\n"
     ]
    }
   ],
   "source": [
    "text = \"BHC#\"\n",
    "for i in range(len(text)):\n",
    "    if text[i] == '@':\n",
    "        num_10 = 62\n",
    "    elif text[i] == '#':\n",
    "        num_10 = 63\n",
    "    elif 48 <= ord(text[i]) and ord(text[i]) <= 57:\n",
    "        num_10 = ord(text[i])+4\n",
    "    elif 97 <= ord(text[i]) and ord(text[i])<= 115:\n",
    "        num_10 = ord(text[i])-51\n",
    "    elif 65 <= ord(text[i]) and ord(text[i])<= 90:\n",
    "        num_10 = ord(text[i])-65\n",
    "    binary = Base_10_to_n(num_10, 2)\n",
    "    print(binary.rjust(6, '0'))"
   ]
  },
  {
   "cell_type": "markdown",
   "metadata": {},
   "source": []
  },
  {
   "cell_type": "code",
   "execution_count": 52,
   "metadata": {},
   "outputs": [
    {
     "name": "stdout",
     "output_type": "stream",
     "text": [
      "41 42 43 44 45 46 47 42 43 44 45 46 48\n",
      "13\n"
     ]
    }
   ],
   "source": [
    "compressed_file = '41 42 43 44 45 46 47 00 06 05 48'\n",
    "recovered_file = []\n",
    "next2 = []\n",
    "flag = False\n",
    "for i,num in enumerate(compressed_file.split()):\n",
    "    if flag:\n",
    "        if len(next2) != 1:\n",
    "            next2.append(Base_n_to_10(num,16))\n",
    "        else:\n",
    "            next2.append(Base_n_to_10(num,16))\n",
    "            if next2[1] == 00:\n",
    "                recovered_file.append('00')\n",
    "                next2 = []\n",
    "                flag = False\n",
    "            else:\n",
    "                recovered_file += recovered_file[i-2-next2[0]:i-2-next2[0]+next2[1]]\n",
    "                next2 = []\n",
    "                flag = False\n",
    "    else:\n",
    "        if num == '00':\n",
    "            flag = True\n",
    "        else:\n",
    "            recovered_file.append(num)\n",
    "\n",
    "print(' '.join(recovered_file))\n",
    "print(len(recovered_file))"
   ]
  },
  {
   "cell_type": "code",
   "execution_count": 64,
   "metadata": {},
   "outputs": [
    {
     "name": "stdout",
     "output_type": "stream",
     "text": [
      "5d ba\n",
      "2\n"
     ]
    }
   ],
   "source": [
    "binary = \"0101110110111010\"\n",
    "compressed_file = []\n",
    "while binary:\n",
    "    byte = binary[:8]\n",
    "    binary = binary[8:]\n",
    "    code = hex(Base_n_to_10(byte[:4],2))[-1]+hex(Base_n_to_10(byte[4:],2))[-1]\n",
    "    compressed_file.append(code)\n",
    "print(' '.join(compressed_file))\n",
    "print(len(compressed_file))"
   ]
  },
  {
   "cell_type": "markdown",
   "metadata": {},
   "source": [
    "バイトへの変換"
   ]
  },
  {
   "cell_type": "code",
   "execution_count": 70,
   "metadata": {},
   "outputs": [
    {
     "data": {
      "text/plain": [
       "b'\\xff'"
      ]
     },
     "execution_count": 70,
     "metadata": {},
     "output_type": "execute_result"
    }
   ],
   "source": [
    "n=255\n",
    "n.to_bytes(1,byteorder='big')"
   ]
  },
  {
   "cell_type": "code",
   "execution_count": null,
   "metadata": {},
   "outputs": [],
   "source": []
  }
 ],
 "metadata": {
  "interpreter": {
   "hash": "570eaaf5860558d9cfdbe43187798fc83e8d00d84ee9225c5559a89f36f2cac8"
  },
  "kernelspec": {
   "display_name": "Python 3.8.8 64-bit ('base': conda)",
   "language": "python",
   "name": "python3"
  },
  "language_info": {
   "codemirror_mode": {
    "name": "ipython",
    "version": 3
   },
   "file_extension": ".py",
   "mimetype": "text/x-python",
   "name": "python",
   "nbconvert_exporter": "python",
   "pygments_lexer": "ipython3",
   "version": "3.8.8"
  },
  "orig_nbformat": 4
 },
 "nbformat": 4,
 "nbformat_minor": 2
}
