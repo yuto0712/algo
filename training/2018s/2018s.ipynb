{
 "cells": [
  {
   "cell_type": "code",
   "execution_count": 11,
   "metadata": {},
   "outputs": [
    {
     "data": {
      "text/plain": [
       "'19 7 0 17 13 1 29 3 27 5 11 23 0 0 0 255 255 255\\n19 7 0 255 255 255 29 3 27 5 11 23 0 0 0 255 255 255\\n19 7 0 17 13 1 255 255 255 5 11 23 0 0 0 255 255 255\\n19 7 0 17 13 1 29 3 27 255 255 255 0 0 0 255 255 255\\n19 7 0 17 13 1 29 3 27 255 255 255 0 0 0 255 255 255\\n1 1 1 10 10 10 100 100 100 50 80 46 96 71 1 255 255 255'"
      ]
     },
     "execution_count": 11,
     "metadata": {},
     "output_type": "execute_result"
    }
   ],
   "source": [
    "with open('image1.txt') as f:\n",
    "    line = f.read()\n",
    "line"
   ]
  },
  {
   "cell_type": "code",
   "execution_count": 13,
   "metadata": {},
   "outputs": [
    {
     "name": "stdout",
     "output_type": "stream",
     "text": [
      "[19, 7, 0, 17, 13, 1, 29, 3, 27, 5, 11, 23, 0, 0, 0, 255, 255, 255, 19, 7, 0, 255, 255, 255, 29, 3, 27, 5, 11, 23, 0, 0, 0, 255, 255, 255, 19, 7, 0, 17, 13, 1, 255, 255, 255, 5, 11, 23, 0, 0, 0, 255, 255, 255, 19, 7, 0, 17, 13, 1, 29, 3, 27, 255, 255, 255, 0, 0, 0, 255, 255, 255, 19, 7, 0, 17, 13, 1, 29, 3, 27, 255, 255, 255, 0, 0, 0, 255, 255, 255, 1, 1, 1, 10, 10, 10, 100, 100, 100, 50, 80, 46, 96, 71, 1, 255, 255, 255]\n",
      "36\n"
     ]
    }
   ],
   "source": [
    "num_list = [int(i) for i in line.split()]\n",
    "print(num_list)\n",
    "print(len(num_list)//3)"
   ]
  },
  {
   "cell_type": "code",
   "execution_count": 19,
   "metadata": {},
   "outputs": [
    {
     "name": "stdout",
     "output_type": "stream",
     "text": [
      "6\n"
     ]
    }
   ],
   "source": [
    "i = 0\n",
    "while True:\n",
    "    if i > 35:\n",
    "        break\n",
    "    gaso = num_list[i*3:i*3+3]\n",
    "    if gaso == [255,255,255]:\n",
    "        print(i+1)\n",
    "        break\n",
    "    # print(gaso)\n",
    "    i += 1\n",
    "    # print(i)"
   ]
  },
  {
   "cell_type": "code",
   "execution_count": 51,
   "metadata": {},
   "outputs": [
    {
     "name": "stdout",
     "output_type": "stream",
     "text": [
      "インデックス：3 3つ組：[5, 11, 23]\n"
     ]
    }
   ],
   "source": [
    "gaso_list = [num_list[i*3:i*3+3] for i in range(36)]\n",
    "brightness_list = [gaso_list[i][0]**2 + gaso_list[i][1]**2 + gaso_list[i][2]**2 for i in range(len(gaso_list))]\n",
    "# gaso_list = [gaso_list[i]+[brightness_list[i]] for i in range(len(gaso_list))]\n",
    "brightness_list = [[brightness_list[i],i] for i in range(len(brightness_list))]\n",
    "sorted_brightness_list = sorted(brightness_list, key = lambda x:x[0],reverse=True)\n",
    "sorted_brightness_list.reverse()\n",
    "# print(sorted_brightness_list)\n",
    "index = sorted_brightness_list[36//2][1]\n",
    "ans = gaso_list[index]\n",
    "print(f'インデックス：{index} 3つ組：{ans}')"
   ]
  },
  {
   "cell_type": "code",
   "execution_count": 52,
   "metadata": {},
   "outputs": [
    {
     "name": "stdout",
     "output_type": "stream",
     "text": [
      "インデックス：28 3つ組：[0, 0, 0]\n",
      "インデックス：12 3つ組：[19, 7, 0]\n",
      "インデックス：3 3つ組：[5, 11, 23]\n",
      "インデックス：29 3つ組：[255, 255, 255]\n"
     ]
    }
   ],
   "source": [
    "k=4\n",
    "for i in range(4):\n",
    "    index = sorted_brightness_list[len(num_list)//3*i//k][1]\n",
    "    ans = gaso_list[index]\n",
    "    print(f'インデックス：{index} 3つ組：{ans}')"
   ]
  },
  {
   "cell_type": "code",
   "execution_count": 55,
   "metadata": {},
   "outputs": [
    {
     "data": {
      "text/plain": [
       "[[0, 0, 0], [19, 7, 0], [5, 11, 23], [255, 255, 255]]"
      ]
     },
     "execution_count": 55,
     "metadata": {},
     "output_type": "execute_result"
    }
   ],
   "source": [
    "represents = []\n",
    "for i in range(4):\n",
    "    index = sorted_brightness_list[len(num_list)//3*i//k][1]\n",
    "    ans = gaso_list[index]\n",
    "    represents.append(ans)\n",
    "\n",
    "represents"
   ]
  },
  {
   "cell_type": "code",
   "execution_count": 78,
   "metadata": {},
   "outputs": [
    {
     "data": {
      "text/plain": [
       "[[0, 0, 0], [19, 7, 0], [5, 11, 23], [255, 255, 255]]"
      ]
     },
     "execution_count": 78,
     "metadata": {},
     "output_type": "execute_result"
    }
   ],
   "source": [
    "import numpy as np\n",
    "for _ in range(10):\n",
    "    clsuter = [[] for _ in range(k)]\n",
    "    for i in range(len(gaso_list)):\n",
    "        min_distance = float('inf')\n",
    "        \n",
    "        for clu,rep in enumerate(represents):\n",
    "            distance = abs(gaso_list[i][0] - rep[0]) + abs(gaso_list[i][1] - rep[1]) + abs(gaso_list[i][2] - rep[2])\n",
    "            if distance <= min_distance:\n",
    "                C=clu\n",
    "                min_distance = distance\n",
    "        \n",
    "        clsuter[C].append(gaso_list[i])\n",
    "\n",
    "    for C in range(k):\n",
    "        center = np.mean(clsuter[C],axis=0)\n",
    "        for clu_gaso in clsuter[C]:\n",
    "            distance = abs(center[0] - clu_gaso[0]) + abs(center[1] - clu_gaso[1]) + abs(center[2] - clu_gaso[2])\n",
    "            if distance <= min_distance:\n",
    "                represents[C] = clu_gaso\n",
    "                min_distance = distance\n",
    "    \n",
    "represents"
   ]
  },
  {
   "cell_type": "code",
   "execution_count": 72,
   "metadata": {},
   "outputs": [
    {
     "data": {
      "text/plain": [
       "[[[0, 0, 0], [0, 0, 0], [0, 0, 0], [0, 0, 0], [0, 0, 0], [1, 1, 1]],\n",
       " [[19, 7, 0],\n",
       "  [17, 13, 1],\n",
       "  [19, 7, 0],\n",
       "  [19, 7, 0],\n",
       "  [17, 13, 1],\n",
       "  [19, 7, 0],\n",
       "  [17, 13, 1],\n",
       "  [19, 7, 0],\n",
       "  [17, 13, 1],\n",
       "  [96, 71, 1]],\n",
       " [[29, 3, 27],\n",
       "  [5, 11, 23],\n",
       "  [29, 3, 27],\n",
       "  [5, 11, 23],\n",
       "  [5, 11, 23],\n",
       "  [29, 3, 27],\n",
       "  [29, 3, 27],\n",
       "  [10, 10, 10],\n",
       "  [100, 100, 100],\n",
       "  [50, 80, 46]],\n",
       " [[255, 255, 255],\n",
       "  [255, 255, 255],\n",
       "  [255, 255, 255],\n",
       "  [255, 255, 255],\n",
       "  [255, 255, 255],\n",
       "  [255, 255, 255],\n",
       "  [255, 255, 255],\n",
       "  [255, 255, 255],\n",
       "  [255, 255, 255],\n",
       "  [255, 255, 255]]]"
      ]
     },
     "execution_count": 72,
     "metadata": {},
     "output_type": "execute_result"
    }
   ],
   "source": [
    "clsuter"
   ]
  },
  {
   "cell_type": "code",
   "execution_count": 97,
   "metadata": {},
   "outputs": [],
   "source": [
    "with open('image.tif', 'wb') as fout:\n",
    "    h = 100000\n",
    "    fout.write(h.to_bytes(4,byteorder=\"big\"))\n",
    "    "
   ]
  },
  {
   "cell_type": "code",
   "execution_count": 100,
   "metadata": {},
   "outputs": [
    {
     "ename": "UnicodeDecodeError",
     "evalue": "'utf-8' codec can't decode byte 0x86 in position 2: invalid start byte",
     "output_type": "error",
     "traceback": [
      "\u001b[0;31m---------------------------------------------------------------------------\u001b[0m",
      "\u001b[0;31mUnicodeDecodeError\u001b[0m                        Traceback (most recent call last)",
      "\u001b[0;32m<ipython-input-100-479a1b5ad3e6>\u001b[0m in \u001b[0;36m<module>\u001b[0;34m\u001b[0m\n\u001b[1;32m      1\u001b[0m \u001b[0;32mwith\u001b[0m \u001b[0mopen\u001b[0m\u001b[0;34m(\u001b[0m\u001b[0;34m'image.tif'\u001b[0m\u001b[0;34m,\u001b[0m \u001b[0;34m'r'\u001b[0m\u001b[0;34m)\u001b[0m \u001b[0;32mas\u001b[0m \u001b[0mf\u001b[0m\u001b[0;34m:\u001b[0m\u001b[0;34m\u001b[0m\u001b[0;34m\u001b[0m\u001b[0m\n\u001b[0;32m----> 2\u001b[0;31m     \u001b[0mprint\u001b[0m\u001b[0;34m(\u001b[0m\u001b[0mf\u001b[0m\u001b[0;34m.\u001b[0m\u001b[0mreadline\u001b[0m\u001b[0;34m(\u001b[0m\u001b[0;34m)\u001b[0m\u001b[0;34m)\u001b[0m\u001b[0;34m\u001b[0m\u001b[0;34m\u001b[0m\u001b[0m\n\u001b[0m",
      "\u001b[0;32m~/opt/anaconda3/lib/python3.8/codecs.py\u001b[0m in \u001b[0;36mdecode\u001b[0;34m(self, input, final)\u001b[0m\n\u001b[1;32m    320\u001b[0m         \u001b[0;31m# decode input (taking the buffer into account)\u001b[0m\u001b[0;34m\u001b[0m\u001b[0;34m\u001b[0m\u001b[0;34m\u001b[0m\u001b[0m\n\u001b[1;32m    321\u001b[0m         \u001b[0mdata\u001b[0m \u001b[0;34m=\u001b[0m \u001b[0mself\u001b[0m\u001b[0;34m.\u001b[0m\u001b[0mbuffer\u001b[0m \u001b[0;34m+\u001b[0m \u001b[0minput\u001b[0m\u001b[0;34m\u001b[0m\u001b[0;34m\u001b[0m\u001b[0m\n\u001b[0;32m--> 322\u001b[0;31m         \u001b[0;34m(\u001b[0m\u001b[0mresult\u001b[0m\u001b[0;34m,\u001b[0m \u001b[0mconsumed\u001b[0m\u001b[0;34m)\u001b[0m \u001b[0;34m=\u001b[0m \u001b[0mself\u001b[0m\u001b[0;34m.\u001b[0m\u001b[0m_buffer_decode\u001b[0m\u001b[0;34m(\u001b[0m\u001b[0mdata\u001b[0m\u001b[0;34m,\u001b[0m \u001b[0mself\u001b[0m\u001b[0;34m.\u001b[0m\u001b[0merrors\u001b[0m\u001b[0;34m,\u001b[0m \u001b[0mfinal\u001b[0m\u001b[0;34m)\u001b[0m\u001b[0;34m\u001b[0m\u001b[0;34m\u001b[0m\u001b[0m\n\u001b[0m\u001b[1;32m    323\u001b[0m         \u001b[0;31m# keep undecoded input until the next call\u001b[0m\u001b[0;34m\u001b[0m\u001b[0;34m\u001b[0m\u001b[0;34m\u001b[0m\u001b[0m\n\u001b[1;32m    324\u001b[0m         \u001b[0mself\u001b[0m\u001b[0;34m.\u001b[0m\u001b[0mbuffer\u001b[0m \u001b[0;34m=\u001b[0m \u001b[0mdata\u001b[0m\u001b[0;34m[\u001b[0m\u001b[0mconsumed\u001b[0m\u001b[0;34m:\u001b[0m\u001b[0;34m]\u001b[0m\u001b[0;34m\u001b[0m\u001b[0;34m\u001b[0m\u001b[0m\n",
      "\u001b[0;31mUnicodeDecodeError\u001b[0m: 'utf-8' codec can't decode byte 0x86 in position 2: invalid start byte"
     ]
    }
   ],
   "source": [
    "with open('image.tif', 'r') as f:\n",
    "    print(f.readline())"
   ]
  },
  {
   "cell_type": "code",
   "execution_count": null,
   "metadata": {},
   "outputs": [],
   "source": []
  }
 ],
 "metadata": {
  "interpreter": {
   "hash": "570eaaf5860558d9cfdbe43187798fc83e8d00d84ee9225c5559a89f36f2cac8"
  },
  "kernelspec": {
   "display_name": "Python 3.8.8 64-bit ('base': conda)",
   "language": "python",
   "name": "python3"
  },
  "language_info": {
   "codemirror_mode": {
    "name": "ipython",
    "version": 3
   },
   "file_extension": ".py",
   "mimetype": "text/x-python",
   "name": "python",
   "nbconvert_exporter": "python",
   "pygments_lexer": "ipython3",
   "version": "3.8.8"
  },
  "orig_nbformat": 4
 },
 "nbformat": 4,
 "nbformat_minor": 2
}
