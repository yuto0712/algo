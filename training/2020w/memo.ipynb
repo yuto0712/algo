{
 "cells": [
  {
   "cell_type": "code",
   "execution_count": 44,
   "metadata": {},
   "outputs": [],
   "source": [
    "f = open('tile2d.txt')\n",
    "tiles = f.read().rsplit('\\n')[1]\n",
    "tiles = '113142421231'"
   ]
  },
  {
   "cell_type": "code",
   "execution_count": 52,
   "metadata": {},
   "outputs": [
    {
     "name": "stdout",
     "output_type": "stream",
     "text": [
      "9\n",
      "1233345555\n",
      "6633395555\n",
      "66333B5555\n",
      "7777885555\n",
      "77778800  \n",
      "7777  00  \n",
      "7777AAA   \n",
      "    AAA   \n",
      "    AAA   \n"
     ]
    }
   ],
   "source": [
    "fields = [[' ' for i in range(10)] for j in range(100)]\n",
    "for i in range(len(tiles)):\n",
    "    finished = False\n",
    "    size = int(tiles[i])\n",
    "    for j in range(10):\n",
    "        if finished:\n",
    "            break\n",
    "        for k in range(50):\n",
    "            if finished:\n",
    "                break\n",
    "            flag = True\n",
    "            for s in range(size):\n",
    "                if k+s >= 10:\n",
    "                    flag = False\n",
    "                    break\n",
    "                if fields[j][k+s] != ' ':\n",
    "                    flag = False\n",
    "                if fields[j+s][k] != ' ':\n",
    "                    flag = False\n",
    "\n",
    "            if flag:\n",
    "                for s in range(size):\n",
    "                    for t in range(size):\n",
    "                        mark = (i+1)%10\n",
    "                        if i+1>10:\n",
    "                            mark = chr(i+1-11+65)\n",
    "                        fields[j+s][k+t] = mark\n",
    "\n",
    "                finished = True\n",
    "\n",
    "\n",
    "ans = 0\n",
    "for i in range(len(fields)):\n",
    "    for j in range(10):\n",
    "        if fields[i][j] != ' ':\n",
    "            ans = i+1\n",
    "            break\n",
    "print(ans)\n",
    "\n",
    "for i in range(ans):\n",
    "    l_n_str = [str(n) for n in fields[i]]\n",
    "    print(''.join(l_n_str))"
   ]
  },
  {
   "cell_type": "code",
   "execution_count": 66,
   "metadata": {},
   "outputs": [
    {
     "name": "stdout",
     "output_type": "stream",
     "text": [
      "21\n",
      "11112222FF\n",
      "11112222FF\n",
      "11112222G \n",
      "11112222  \n",
      "33334444  \n",
      "33334444  \n",
      "33334444  \n",
      "33334444  \n",
      "55556666  \n",
      "55556666  \n",
      "55556666  \n",
      "55556666  \n",
      "777888999 \n",
      "777888999 \n",
      "777888999 \n",
      "000AAABBB \n",
      "000AAABBB \n",
      "000AAABBB \n",
      "CCCDDDEEE \n",
      "CCCDDDEEE \n",
      "CCCDDDEEE \n"
     ]
    }
   ],
   "source": [
    "tiles = '34433244334334133'\n",
    "tiles = list(tiles)\n",
    "tiles = [int(n) for n in tiles]\n",
    "tiles.sort(reverse = True)\n",
    "\n",
    "fields = [[' ' for i in range(10)] for j in range(1000)]\n",
    "for i in range(len(tiles)):\n",
    "    finished = False\n",
    "    size = int(tiles[i])\n",
    "    for j in range(100):\n",
    "        if finished:\n",
    "            break\n",
    "        for k in range(100):\n",
    "            if finished:\n",
    "                break\n",
    "            flag = True\n",
    "            for s in range(size):\n",
    "                if k+s >= 10:\n",
    "                    flag = False\n",
    "                    break\n",
    "                if fields[j][k+s] != ' ':\n",
    "                    flag = False\n",
    "                if fields[j+s][k] != ' ':\n",
    "                    flag = False\n",
    "\n",
    "            if flag:\n",
    "                for s in range(size):\n",
    "                    for t in range(size):\n",
    "                        mark = (i+1)%10\n",
    "                        if i+1>10:\n",
    "                            mark = chr(i+1-11+65)\n",
    "                        fields[j+s][k+t] = mark\n",
    "\n",
    "                finished = True\n",
    "\n",
    "\n",
    "ans = 0\n",
    "for i in range(len(fields)):\n",
    "    for j in range(10):\n",
    "        if fields[i][j] != ' ':\n",
    "            ans = i+1\n",
    "            break\n",
    "print(ans)\n",
    "\n",
    "for i in range(ans):\n",
    "    l_n_str = [str(n) for n in fields[i]]\n",
    "    print(''.join(l_n_str))"
   ]
  },
  {
   "cell_type": "code",
   "execution_count": 67,
   "metadata": {},
   "outputs": [
    {
     "data": {
      "text/plain": [
       "[4, 4, 4, 4, 4, 4, 3, 3, 3, 3, 3, 3, 3, 3, 3, 2, 1]"
      ]
     },
     "execution_count": 67,
     "metadata": {},
     "output_type": "execute_result"
    }
   ],
   "source": [
    "tiles = '34433244334334133'\n",
    "tiles = list(tiles)\n",
    "tiles = [int(n) for n in tiles]\n",
    "tiles.sort(reverse = True)\n",
    "tiles"
   ]
  },
  {
   "cell_type": "code",
   "execution_count": null,
   "metadata": {},
   "outputs": [],
   "source": []
  }
 ],
 "metadata": {
  "interpreter": {
   "hash": "85264dd502f7c33807a1464ae1f1991f21bab7c89a57646c4c3522b93e5b03e0"
  },
  "kernelspec": {
   "display_name": "Python 3.9.7 64-bit ('base': conda)",
   "language": "python",
   "name": "python3"
  },
  "language_info": {
   "codemirror_mode": {
    "name": "ipython",
    "version": 3
   },
   "file_extension": ".py",
   "mimetype": "text/x-python",
   "name": "python",
   "nbconvert_exporter": "python",
   "pygments_lexer": "ipython3",
   "version": "3.7.0"
  },
  "orig_nbformat": 4
 },
 "nbformat": 4,
 "nbformat_minor": 2
}
